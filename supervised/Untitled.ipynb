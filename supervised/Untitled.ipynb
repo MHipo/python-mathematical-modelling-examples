{
 "cells": [
  {
   "cell_type": "code",
   "execution_count": null,
   "id": "6fe0ac48-218c-4ede-84bf-cd0ed19e09b2",
   "metadata": {},
   "outputs": [],
   "source": [
    "import tensorflow as tf"
   ]
  },
  {
   "cell_type": "code",
   "execution_count": null,
   "id": "c723a6a7-706c-47c0-9f50-e06533055b9a",
   "metadata": {},
   "outputs": [],
   "source": []
  }
 ],
 "metadata": {
  "kernelspec": {
   "display_name": "Python 3 (ipykernel)",
   "language": "python",
   "name": "python3"
  },
  "language_info": {
   "name": ""
  }
 },
 "nbformat": 4,
 "nbformat_minor": 5
}
